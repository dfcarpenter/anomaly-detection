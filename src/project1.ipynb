{
 "cells": [
  {
   "cell_type": "code",
   "execution_count": 7,
   "metadata": {},
   "outputs": [
    {
     "name": "stdout",
     "output_type": "stream",
     "text": [
      "{'X': array([[7.74193548e-01, 1.13207547e-03, 1.37571157e-01, 2.75700935e-01,\n",
      "        2.95774648e-01, 2.36065574e-01],\n",
      "       [2.47311828e-01, 4.71698113e-04, 2.79886148e-01, 3.29439252e-01,\n",
      "        5.35211268e-01, 1.73770492e-01],\n",
      "       [4.94623656e-01, 3.58490566e-03, 2.22960152e-01, 2.33644860e-01,\n",
      "        5.25821596e-01, 1.24590164e-01],\n",
      "       ...,\n",
      "       [9.35483871e-01, 2.45283019e-02, 1.60341556e-01, 2.82710280e-01,\n",
      "        3.75586854e-01, 2.00000000e-01],\n",
      "       [6.77419355e-01, 1.47169811e-03, 1.90702087e-01, 2.42990654e-01,\n",
      "        3.23943662e-01, 1.95081967e-01],\n",
      "       [4.83870968e-01, 3.56603774e-03, 1.90702087e-01, 2.12616822e-01,\n",
      "        3.38028169e-01, 1.63934426e-01]]), 'y': array([[0.],\n",
      "       [0.],\n",
      "       [0.],\n",
      "       ...,\n",
      "       [0.],\n",
      "       [0.],\n",
      "       [0.]])}\n"
     ]
    }
   ],
   "source": [
    "import os\n",
    "from os.path import dirname, join as pjoin\n",
    "from pathlib import Path\n",
    "\n",
    "import scipy.io as sio\n",
    "import pandas as pd\n",
    "p = Path(os.getcwd())\n",
    "mat_data = sio.loadmat(p.joinpath(p.parent, 'data', 'thyroid.mat'))\n",
    "mat = {k:v for k, v in mat_data.items() if k[0] != '_'}\n",
    "data = pd.DataFrame({k: pd.Series(v[0]) for k, v in mat.items()})\n"
   ]
  }
 ],
 "metadata": {
  "kernelspec": {
   "display_name": ".anomalyEnv",
   "language": "python",
   "name": "python3"
  },
  "language_info": {
   "codemirror_mode": {
    "name": "ipython",
    "version": 3
   },
   "file_extension": ".py",
   "mimetype": "text/x-python",
   "name": "python",
   "nbconvert_exporter": "python",
   "pygments_lexer": "ipython3",
   "version": "3.11.0"
  },
  "orig_nbformat": 4,
  "vscode": {
   "interpreter": {
    "hash": "affb9153a7e2bbbaa4d4698a9259dedb1ec6a2f2de52cf4820b22dcbb6168cf6"
   }
  }
 },
 "nbformat": 4,
 "nbformat_minor": 2
}
